{
 "cells": [
  {
   "cell_type": "code",
   "execution_count": null,
   "id": "92785748",
   "metadata": {},
   "outputs": [],
   "source": [
    "import numpy as np\n",
    "from tensorflow.keras.preprocessing import image\n",
    "from tensorflow.keras.models import load_model\n",
    "\n",
    "# 1. Load the trained model\n",
    "model = load_model('best_model.h5')\n",
    "\n",
    "# 2. Load and preprocess the image\n",
    "img_path = \"cat-or-dog_1.jpg\"  # <-- change path as needed\n",
    "test_image = image.load_img(img_path, target_size=(64, 64))   # resize to match training\n",
    "test_image = image.img_to_array(test_image)                   # convert to array\n",
    "test_image = np.expand_dims(test_image, axis=0)               # add batch dimension\n",
    "test_image = test_image / 255.0                               # scale like training\n",
    "\n",
    "# 3. Make prediction\n",
    "result = model.predict(test_image)\n",
    "\n",
    "# 4. Decode prediction\n",
    "if result[0][0] >= 0.5:\n",
    "    prediction = 'DOG 🐶'\n",
    "else:\n",
    "    prediction = 'CAT 😺'\n",
    "\n",
    "print(f\"Prediction: {prediction}\")\n"
   ]
  }
 ],
 "metadata": {
  "kernelspec": {
   "display_name": "base",
   "language": "python",
   "name": "python3"
  },
  "language_info": {
   "name": "python",
   "version": "3.12.3"
  }
 },
 "nbformat": 4,
 "nbformat_minor": 5
}
