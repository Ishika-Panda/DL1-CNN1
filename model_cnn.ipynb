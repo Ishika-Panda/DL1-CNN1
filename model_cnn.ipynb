{
 "cells": [
  {
   "cell_type": "code",
   "execution_count": null,
   "id": "92785748",
   "metadata": {},
   "outputs": [],
   "source": [
    "import numpy as np\n",
    "from tensorflow.keras.preprocessing import image\n",
    "from tensorflow.keras.models import load_model\n",
    "\n",
    "# 1. Loading the trained model (from Kaggle Notebook)\n",
    "model = load_model('best_model.h5')\n",
    "\n",
    "# 2. Loading and preprocessing the image for prediction\n",
    "img_path = \"single_prediction/cat-or-dog_1.jpg\",
    "test_image = image.load_img(img_path, target_size=(64, 64))   # resizing to match training input-size\n",
    "test_image = image.img_to_array(test_image)\n",
    "test_image = np.expand_dims(test_image, axis=0)               # adding batch dimension\n",
    "test_image = test_image / 255.0                               # scaling like in training phase\n",
    "\n",
    "# 3. Making the prediction\n",
    "result = model.predict(test_image)\n",
    "\n",
    "if result[0][0] >= 0.5:\n",
    "    prediction = 'DOG 🐶'\n",
    "else:\n",
    "    prediction = 'CAT 😺'\n",
    "\n",
    "print(f\"Prediction: {prediction}\")\n"
   ]
  }
 ],
 "metadata": {
  "kernelspec": {
   "display_name": "base",
   "language": "python",
   "name": "python3"
  },
  "language_info": {
   "name": "python",
   "version": "3.12.3"
  }
 },
 "nbformat": 4,
 "nbformat_minor": 5
}
