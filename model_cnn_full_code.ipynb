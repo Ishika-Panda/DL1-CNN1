{
 "cells": [
  {
   "cell_type": "code",
   "execution_count": null,
   "id": "393e0aeb-f686-48c2-b3d7-79206e6d8d64",
   "metadata": {},
   "outputs": [],
   "source": [
    "# Convolutional Neural Network"
   ]
  },
  {
   "cell_type": "code",
   "execution_count": null,
   "id": "1da45007-40d4-4523-8f5a-5d3780cec52a",
   "metadata": {},
   "outputs": [],
   "source": [
    "\"\"\" I. DATA PREPROCESSING \"\"\""
   ]
  },
  {
   "cell_type": "code",
   "execution_count": null,
   "id": "c98a4721-fb54-43f5-acae-ce2cf43161bb",
   "metadata": {},
   "outputs": [
    {
     "name": "stdout",
     "output_type": "stream",
     "text": [
      "Found 8000 images belonging to 2 classes.\n",
      "Found 2000 images belonging to 2 classes.\n"
     ]
    }
   ],
   "source": [
    "\"\"\" 1. Import the libraries \"\"\"\n",
    "\n",
    "import tensorflow as tf\n",
    "from tensorflow.keras.preprocessing.image import ImageDataGenerator    \n",
    "\n",
    "\"\"\" 2. Preprocess the training set: apply (geometrical) transformations on training set to prevent overfitting \"\"\"\n",
    "\n",
    "train_datagen = ImageDataGenerator(rescale = 1./255,   # apply feature scaling to all pixels\n",
    "                                   shear_range = 0.2,\n",
    "                                   zoom_range = 0.2,\n",
    "                                   horizontal_flip = True)\n",
    "\n",
    "training_set = train_datagen.flow_from_directory(\"C:\\\\Users\\\\KIIT\\\\Downloads\\\\S37 - dataset\\\\dataset\\\\training_set\",\n",
    "                                                 target_size = (64, 64),\n",
    "                                                 batch_size = 32,\n",
    "                                                 class_mode = 'binary') # For cat or dog: class mode is binary as there're two classes only\n",
    "\n",
    "\"\"\" 3. Preprocess the testing set: no transformations, only feature scaling - to prevent data leakage \"\"\"\n",
    "\n",
    "test_datagen = ImageDataGenerator(rescale = 1./255)\n",
    "test_set = test_datagen.flow_from_directory(\"C:\\\\Users\\\\KIIT\\\\Downloads\\\\S37 - dataset\\\\dataset\\\\test_set\",\n",
    "                                            target_size = (64, 64),\n",
    "                                            batch_size = 32,\n",
    "                                            class_mode = 'binary')\n"
   ]
  },
  {
   "cell_type": "code",
   "execution_count": null,
   "id": "98fe65b5-8971-4291-ac9d-c74e79b6aa32",
   "metadata": {},
   "outputs": [],
   "source": [
    "\"\"\" II. BUILD CNN MODEL \"\"\""
   ]
  },
  {
   "cell_type": "code",
   "execution_count": null,
   "id": "f07d9482-582f-4c54-8f06-c23ff6211689",
   "metadata": {},
   "outputs": [
    {
     "name": "stderr",
     "output_type": "stream",
     "text": [
      "C:\\Users\\KIIT\\anaconda3\\Lib\\site-packages\\keras\\src\\layers\\convolutional\\base_conv.py:113: UserWarning: Do not pass an `input_shape`/`input_dim` argument to a layer. When using Sequential models, prefer using an `Input(shape)` object as the first layer in the model instead.\n",
      "  super().__init__(activity_regularizer=activity_regularizer, **kwargs)\n"
     ]
    }
   ],
   "source": [
    "\"\"\" 1. Initialize the CNN model \"\"\"\n",
    "\n",
    "cnn = tf.keras.models.Sequential()   # initializes the cnn as a sequence of layers\n",
    "\n",
    "\"\"\" Step 1: Convolution \"\"\"\n",
    "\n",
    "cnn.add(tf.keras.layers.Conv2D(filters = 32, kernel_size = 3, activation = 'relu', input_shape = (64, 64, 3)))  \n",
    "\n",
    "# 3 in input_shape for RGB layers and kernel_size = 3 means 3 ❌ 3 feature detector\n",
    "\n",
    "\"\"\" Step 2: Max Pooling \"\"\"\n",
    "\n",
    "cnn.add(tf.keras.layers.MaxPool2D(pool_size = 2, strides = 2))  # for 3 RGB layers\n",
    "\n",
    "# pool_size = 2 means 2 ❌ 2 pooling matrix with stride = 2 pixels\n",
    "\n",
    "\"\"\" Step 3: Add a 2nd Convolutional Layer \"\"\"\n",
    "\n",
    "cnn.add(tf.keras.layers.Conv2D(filters = 32, kernel_size = 3, activation = 'relu'))  \n",
    "cnn.add(tf.keras.layers.MaxPool2D(pool_size = 2, strides = 2))    # input_shape is entered only during the creating the 1st Convolutional Layer\n",
    "\n",
    "\"\"\" Step 4: Flattening \"\"\"\n",
    "\n",
    "cnn.add(tf.keras.layers.Flatten())\n",
    "\n",
    "\"\"\" Step 5: Fully Connected Layer : add the ANN \"\"\"\n",
    "\n",
    "# the FLATTENED layer is the input layer for the ANN \n",
    "\n",
    "cnn.add(tf.keras.layers.Dense(units = 128, activation = 'relu'))  # hidden layer of ANN\n",
    "cnn.add(tf.keras.layers.Dense(units = 1, activation = 'sigmoid'))   # output layer of ANN\n",
    "\n"
   ]
  },
  {
   "cell_type": "code",
   "execution_count": null,
   "id": "49179bb9-71c8-4582-a17a-e4dce8e7ed7a",
   "metadata": {},
   "outputs": [],
   "source": [
    "\"\"\" III. TRAIN and MODEL EVALUATION of CNN \"\"\""
   ]
  },
  {
   "cell_type": "code",
   "execution_count": null,
   "id": "550ef127-3047-4652-aafb-9ef1a9ab6922",
   "metadata": {},
   "outputs": [
    {
     "name": "stderr",
     "output_type": "stream",
     "text": [
      "C:\\Users\\KIIT\\anaconda3\\Lib\\site-packages\\keras\\src\\trainers\\data_adapters\\py_dataset_adapter.py:121: UserWarning: Your `PyDataset` class should call `super().__init__(**kwargs)` in its constructor. `**kwargs` can include `workers`, `use_multiprocessing`, `max_queue_size`. Do not pass these arguments to `fit()`, as they will be ignored.\n",
      "  self._warn_if_super_not_called()\n"
     ]
    },
    {
     "name": "stdout",
     "output_type": "stream",
     "text": [
      "Epoch 1/25\n",
      "\u001b[1m250/250\u001b[0m \u001b[32m━━━━━━━━━━━━━━━━━━━━\u001b[0m\u001b[37m\u001b[0m \u001b[1m204s\u001b[0m 799ms/step - accuracy: 0.5802 - loss: 0.6744 - val_accuracy: 0.6779 - val_loss: 0.6078\n",
      "Epoch 2/25\n",
      "\u001b[1m250/250\u001b[0m \u001b[32m━━━━━━━━━━━━━━━━━━━━\u001b[0m\u001b[37m\u001b[0m \u001b[1m98s\u001b[0m 391ms/step - accuracy: 0.6652 - loss: 0.6061 - val_accuracy: 0.6789 - val_loss: 0.5994\n",
      "Epoch 3/25\n",
      "\u001b[1m250/250\u001b[0m \u001b[32m━━━━━━━━━━━━━━━━━━━━\u001b[0m\u001b[37m\u001b[0m \u001b[1m136s\u001b[0m 365ms/step - accuracy: 0.7117 - loss: 0.5521 - val_accuracy: 0.6552 - val_loss: 0.6066\n",
      "Epoch 4/25\n",
      "\u001b[1m250/250\u001b[0m \u001b[32m━━━━━━━━━━━━━━━━━━━━\u001b[0m\u001b[37m\u001b[0m \u001b[1m91s\u001b[0m 365ms/step - accuracy: 0.7287 - loss: 0.5253 - val_accuracy: 0.7419 - val_loss: 0.5312\n",
      "Epoch 5/25\n",
      "\u001b[1m250/250\u001b[0m \u001b[32m━━━━━━━━━━━━━━━━━━━━\u001b[0m\u001b[37m\u001b[0m \u001b[1m96s\u001b[0m 383ms/step - accuracy: 0.7594 - loss: 0.4867 - val_accuracy: 0.7666 - val_loss: 0.4892\n",
      "Epoch 6/25\n",
      "\u001b[1m250/250\u001b[0m \u001b[32m━━━━━━━━━━━━━━━━━━━━\u001b[0m\u001b[37m\u001b[0m \u001b[1m91s\u001b[0m 362ms/step - accuracy: 0.7688 - loss: 0.4818 - val_accuracy: 0.7702 - val_loss: 0.4822\n",
      "Epoch 7/25\n",
      "\u001b[1m250/250\u001b[0m \u001b[32m━━━━━━━━━━━━━━━━━━━━\u001b[0m\u001b[37m\u001b[0m \u001b[1m92s\u001b[0m 368ms/step - accuracy: 0.7753 - loss: 0.4652 - val_accuracy: 0.7440 - val_loss: 0.5105\n",
      "Epoch 8/25\n",
      "\u001b[1m250/250\u001b[0m \u001b[32m━━━━━━━━━━━━━━━━━━━━\u001b[0m\u001b[37m\u001b[0m \u001b[1m90s\u001b[0m 360ms/step - accuracy: 0.7846 - loss: 0.4543 - val_accuracy: 0.7959 - val_loss: 0.4630\n",
      "Epoch 9/25\n",
      "\u001b[1m250/250\u001b[0m \u001b[32m━━━━━━━━━━━━━━━━━━━━\u001b[0m\u001b[37m\u001b[0m \u001b[1m91s\u001b[0m 363ms/step - accuracy: 0.8111 - loss: 0.4178 - val_accuracy: 0.8090 - val_loss: 0.4406\n",
      "Epoch 10/25\n",
      "\u001b[1m250/250\u001b[0m \u001b[32m━━━━━━━━━━━━━━━━━━━━\u001b[0m\u001b[37m\u001b[0m \u001b[1m96s\u001b[0m 382ms/step - accuracy: 0.8050 - loss: 0.4183 - val_accuracy: 0.8135 - val_loss: 0.4611\n",
      "Epoch 11/25\n",
      "\u001b[1m250/250\u001b[0m \u001b[32m━━━━━━━━━━━━━━━━━━━━\u001b[0m\u001b[37m\u001b[0m \u001b[1m91s\u001b[0m 366ms/step - accuracy: 0.8194 - loss: 0.4035 - val_accuracy: 0.7802 - val_loss: 0.4945\n",
      "Epoch 12/25\n",
      "\u001b[1m250/250\u001b[0m \u001b[32m━━━━━━━━━━━━━━━━━━━━\u001b[0m\u001b[37m\u001b[0m \u001b[1m90s\u001b[0m 360ms/step - accuracy: 0.8253 - loss: 0.3842 - val_accuracy: 0.7878 - val_loss: 0.4733\n",
      "Epoch 13/25\n",
      "\u001b[1m250/250\u001b[0m \u001b[32m━━━━━━━━━━━━━━━━━━━━\u001b[0m\u001b[37m\u001b[0m \u001b[1m92s\u001b[0m 369ms/step - accuracy: 0.8314 - loss: 0.3767 - val_accuracy: 0.7954 - val_loss: 0.4700\n",
      "Epoch 14/25\n",
      "\u001b[1m250/250\u001b[0m \u001b[32m━━━━━━━━━━━━━━━━━━━━\u001b[0m\u001b[37m\u001b[0m \u001b[1m93s\u001b[0m 373ms/step - accuracy: 0.8414 - loss: 0.3614 - val_accuracy: 0.8014 - val_loss: 0.4747\n",
      "Epoch 15/25\n",
      "\u001b[1m250/250\u001b[0m \u001b[32m━━━━━━━━━━━━━━━━━━━━\u001b[0m\u001b[37m\u001b[0m \u001b[1m96s\u001b[0m 385ms/step - accuracy: 0.8509 - loss: 0.3433 - val_accuracy: 0.8024 - val_loss: 0.4617\n",
      "Epoch 16/25\n",
      "\u001b[1m250/250\u001b[0m \u001b[32m━━━━━━━━━━━━━━━━━━━━\u001b[0m\u001b[37m\u001b[0m \u001b[1m96s\u001b[0m 384ms/step - accuracy: 0.8524 - loss: 0.3433 - val_accuracy: 0.7883 - val_loss: 0.5413\n",
      "Epoch 17/25\n",
      "\u001b[1m250/250\u001b[0m \u001b[32m━━━━━━━━━━━━━━━━━━━━\u001b[0m\u001b[37m\u001b[0m \u001b[1m96s\u001b[0m 385ms/step - accuracy: 0.8594 - loss: 0.3251 - val_accuracy: 0.8070 - val_loss: 0.4615\n",
      "Epoch 18/25\n",
      "\u001b[1m250/250\u001b[0m \u001b[32m━━━━━━━━━━━━━━━━━━━━\u001b[0m\u001b[37m\u001b[0m \u001b[1m99s\u001b[0m 395ms/step - accuracy: 0.8731 - loss: 0.2949 - val_accuracy: 0.7959 - val_loss: 0.5286\n",
      "Epoch 19/25\n",
      "\u001b[1m250/250\u001b[0m \u001b[32m━━━━━━━━━━━━━━━━━━━━\u001b[0m\u001b[37m\u001b[0m \u001b[1m99s\u001b[0m 397ms/step - accuracy: 0.8708 - loss: 0.3001 - val_accuracy: 0.8170 - val_loss: 0.4498\n",
      "Epoch 20/25\n",
      "\u001b[1m250/250\u001b[0m \u001b[32m━━━━━━━━━━━━━━━━━━━━\u001b[0m\u001b[37m\u001b[0m \u001b[1m101s\u001b[0m 404ms/step - accuracy: 0.8818 - loss: 0.2834 - val_accuracy: 0.7873 - val_loss: 0.5235\n",
      "Epoch 21/25\n",
      "\u001b[1m250/250\u001b[0m \u001b[32m━━━━━━━━━━━━━━━━━━━━\u001b[0m\u001b[37m\u001b[0m \u001b[1m98s\u001b[0m 390ms/step - accuracy: 0.8885 - loss: 0.2629 - val_accuracy: 0.8004 - val_loss: 0.5176\n",
      "Epoch 22/25\n",
      "\u001b[1m250/250\u001b[0m \u001b[32m━━━━━━━━━━━━━━━━━━━━\u001b[0m\u001b[37m\u001b[0m \u001b[1m92s\u001b[0m 369ms/step - accuracy: 0.8845 - loss: 0.2645 - val_accuracy: 0.7974 - val_loss: 0.5277\n",
      "Epoch 23/25\n",
      "\u001b[1m250/250\u001b[0m \u001b[32m━━━━━━━━━━━━━━━━━━━━\u001b[0m\u001b[37m\u001b[0m \u001b[1m93s\u001b[0m 371ms/step - accuracy: 0.8967 - loss: 0.2449 - val_accuracy: 0.8080 - val_loss: 0.5632\n",
      "Epoch 24/25\n",
      "\u001b[1m250/250\u001b[0m \u001b[32m━━━━━━━━━━━━━━━━━━━━\u001b[0m\u001b[37m\u001b[0m \u001b[1m93s\u001b[0m 373ms/step - accuracy: 0.9042 - loss: 0.2241 - val_accuracy: 0.8110 - val_loss: 0.5256\n",
      "Epoch 25/25\n",
      "\u001b[1m250/250\u001b[0m \u001b[32m━━━━━━━━━━━━━━━━━━━━\u001b[0m\u001b[37m\u001b[0m \u001b[1m96s\u001b[0m 382ms/step - accuracy: 0.9183 - loss: 0.2109 - val_accuracy: 0.7923 - val_loss: 0.6223\n"
     ]
    },
    {
     "data": {
      "text/plain": [
       "<keras.src.callbacks.history.History at 0x25fbf13ff50>"
      ]
     },
     "execution_count": 9,
     "metadata": {},
     "output_type": "execute_result"
    }
   ],
   "source": [
    "\"\"\" 1. Compile the ANN \"\"\"\n",
    "\n",
    "cnn.compile(optimizer = 'adam', loss = 'binary_crossentropy', metrics = ['accuracy']) \n",
    "\n",
    "\"\"\" 2. Train and evaluate the model \"\"\"\n",
    "\n",
    "# Note: we could've used: cnn.fit(x = training_set, validation_data = test_set, epochs = 25)   # but it doesn't select all input training images, and may reuse batches\n",
    "\n",
    "# So to ensure the entire training set is used:\n",
    "\n",
    "cnn.fit(\n",
    "    x=training_set,\n",
    "    validation_data=test_set,\n",
    "    steps_per_epoch=training_set.samples // training_set.batch_size,\n",
    "    validation_steps=test_set.samples // test_set.batch_size,\n",
    "    epochs=25\n",
    ")"
   ]
  },
  {
   "cell_type": "code",
   "execution_count": null,
   "id": "3736de56-f817-42ca-8e08-3202bb67c73e",
   "metadata": {},
   "outputs": [],
   "source": [
    "\"\"\" IV. MAKE A PREDICTION \"\"\""
   ]
  },
  {
   "cell_type": "code",
   "execution_count": null,
   "id": "8c8b3ba4-037d-4b4a-8a00-0a82c7f3c70d",
   "metadata": {},
   "outputs": [
    {
     "name": "stdout",
     "output_type": "stream",
     "text": [
      "\u001b[1m1/1\u001b[0m \u001b[32m━━━━━━━━━━━━━━━━━━━━\u001b[0m\u001b[37m\u001b[0m \u001b[1m0s\u001b[0m 116ms/step\n",
      "CAT 😺\n"
     ]
    }
   ],
   "source": [
    "import numpy as np\n",
    "from tensorflow.keras.preprocessing import image\n",
    "test_image = image.load_img(\"C:\\\\Users\\\\KIIT\\\\Desktop\\\\web_dev\\\\Projects\\\\P10- ML\\\\DL1-CNN\\\\single_prediction\\\\cat-or-dog_1.jpg\", target_size = (64, 64))\n",
    "test_image = image.img_to_array(test_image)     # convert the image into 2D array as predict method expects an array\n",
    "test_image = np.expand_dims(test_image, axis = 0)  # model's trained on batches of images, not on a single image, so we've an extra parameter: batch_size\n",
    "\n",
    "result = cnn.predict(test_image) \n",
    "training_set.class_indices       \n",
    "\n",
    "if result[0][0] == 1:\n",
    "  prediction = 'DOG 🐶'\n",
    "else:\n",
    "  prediction = 'CAT 😺'\n",
    "\n",
    "print(prediction)\n"
   ]
  },
  {
   "cell_type": "code",
   "execution_count": null,
   "id": "ae29cc3b-4c32-44b7-83bb-d55e3566c813",
   "metadata": {},
   "outputs": [
    {
     "name": "stdout",
     "output_type": "stream",
     "text": [
      "{'cats': 0, 'dogs': 1}\n"
     ]
    }
   ],
   "source": [
    "# we get that cat corresponds to 0 and dog to 1\n",
    "\n",
    "print(training_set.class_indices )"
   ]
  },
  {
   "cell_type": "code",
   "execution_count": null,
   "id": "191cd0de-5a40-4dc4-806d-fc8640d0d45b",
   "metadata": {},
   "outputs": [],
   "source": []
  }
 ],
 "metadata": {
  "kernelspec": {
   "display_name": "Python 3 (ipykernel)",
   "language": "python",
   "name": "python3"
  },
  "language_info": {
   "codemirror_mode": {
    "name": "ipython",
    "version": 3
   },
   "file_extension": ".py",
   "mimetype": "text/x-python",
   "name": "python",
   "nbconvert_exporter": "python",
   "pygments_lexer": "ipython3",
   "version": "3.12.3"
  }
 },
 "nbformat": 4,
 "nbformat_minor": 5
}
